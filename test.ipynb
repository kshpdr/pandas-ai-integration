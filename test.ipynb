{
 "cells": [
  {
   "cell_type": "code",
   "execution_count": 1,
   "id": "e65ecc3a",
   "metadata": {},
   "outputs": [],
   "source": [
    "import os\n",
    "import pandas as pd\n",
    "import evadb\n",
    "import matplotlib.pyplot as plt\n",
    "%matplotlib notebook"
   ]
  },
  {
   "cell_type": "code",
   "execution_count": 2,
   "id": "78f6ba1c",
   "metadata": {},
   "outputs": [],
   "source": [
    "cursor = evadb.connect().cursor()"
   ]
  },
  {
   "cell_type": "code",
   "execution_count": 3,
   "id": "be74d06f",
   "metadata": {},
   "outputs": [
    {
     "data": {
      "text/plain": [
       "<evadb.models.storage.batch.Batch at 0x12d216c80>"
      ]
     },
     "execution_count": 3,
     "metadata": {},
     "output_type": "execute_result"
    }
   ],
   "source": [
    "create_function_query = f\"\"\"CREATE FUNCTION IF NOT EXISTS ChatWithPandas\n",
    "            IMPL  './functions/semantic_cache.py';\n",
    "            \"\"\"\n",
    "cursor.query(\"DROP FUNCTION IF EXISTS ChatWithPandas;\").execute()\n",
    "cursor.query(create_function_query).execute()"
   ]
  },
  {
   "cell_type": "code",
   "execution_count": 4,
   "id": "c06d5cd0",
   "metadata": {},
   "outputs": [],
   "source": [
    "create_table_query = f\"\"\"\n",
    "CREATE TABLE IF NOT EXISTS CARSDATA(\n",
    "id INTEGER,\n",
    "name TEXT(30),\n",
    "mpg INTEGER,\n",
    "cyl FLOAT(64,64),\n",
    "disp FLOAT(64,64),\n",
    "hp FLOAT(64,64),\n",
    "drat FLOAT(64,64),\n",
    "wt FLOAT(64,64),\n",
    "qsec FLOAT(64,64),\n",
    "vs FLOAT(64,64),\n",
    "am FLOAT(64,64),\n",
    "gear FLOAT(64,64),\n",
    "carb FLOAT(64,64)\n",
    ");\n",
    "\"\"\"\n",
    "load_data_query = f\"\"\" LOAD CSV 'data/cars.csv' INTO CARSDATA;\"\"\""
   ]
  },
  {
   "cell_type": "code",
   "execution_count": 5,
   "id": "d91c64d2",
   "metadata": {},
   "outputs": [
    {
     "name": "stderr",
     "output_type": "stream",
     "text": [
      "10-10-2023 19:29:24 WARNING[executor_utils:executor_utils.py:handle_if_not_exists:0090] Table: CARSDATA already exists\n"
     ]
    },
    {
     "data": {
      "text/plain": [
       "<evadb.models.storage.batch.Batch at 0x12d216d10>"
      ]
     },
     "execution_count": 5,
     "metadata": {},
     "output_type": "execute_result"
    }
   ],
   "source": [
    "cursor.query(create_table_query).execute()\n",
    "cursor.query(load_data_query).execute()"
   ]
  },
  {
   "cell_type": "code",
   "execution_count": 17,
   "id": "4d08f829",
   "metadata": {},
   "outputs": [
    {
     "name": "stdout",
     "output_type": "stream",
     "text": [
      "df is:                                            0  gear\n",
      "0     what is the maximum of the gear column   4.0\n",
      "1     what is the maximum of the gear column   4.0\n",
      "2     what is the maximum of the gear column   4.0\n",
      "3     what is the maximum of the gear column   3.0\n",
      "4     what is the maximum of the gear column   3.0\n",
      "...                                      ...   ...\n",
      "2395  what is the maximum of the gear column   5.0\n",
      "2396  what is the maximum of the gear column   5.0\n",
      "2397  what is the maximum of the gear column   5.0\n",
      "2398  what is the maximum of the gear column   5.0\n",
      "2399  what is the maximum of the gear column   4.0\n",
      "\n",
      "[2400 rows x 2 columns]\n",
      "req_df is:       gear\n",
      "0      4.0\n",
      "1      4.0\n",
      "2      4.0\n",
      "3      3.0\n",
      "4      3.0\n",
      "...    ...\n",
      "2395   5.0\n",
      "2396   5.0\n",
      "2397   5.0\n",
      "2398   5.0\n",
      "2399   4.0\n",
      "\n",
      "[2400 rows x 1 columns]\n",
      "self is       gear\n",
      "0      4.0\n",
      "1      4.0\n",
      "2      4.0\n",
      "3      3.0\n",
      "4      3.0\n",
      "...    ...\n",
      "2395   5.0\n",
      "2396   5.0\n",
      "2397   5.0\n",
      "2398   5.0\n",
      "2399   4.0\n",
      "\n",
      "[2400 rows x 1 columns]\n",
      "FULL LOG: {'input': 'Previous query: {\\'query\\': \\'what is the mean of carh column\\', \\'response\\': \\'The mean of the carb column is 2.8125.\\', \\'command\\': \"df[\\'carb\\'].mean()\"}Current query: what is the maximum of the gear column', 'output': 'The maximum of the gear column is 5.0.', 'intermediate_steps': [(AgentAction(tool='python_repl_ast', tool_input=\"df['gear'].max()\", log=\"Thought: I need to find the maximum value of the gear column\\nAction: python_repl_ast\\nAction Input: df['gear'].max()\"), 5.0)]}\n",
      "Thought: I need to find the maximum value of the gear column\n",
      "Action: python_repl_ast\n",
      "Action Input: df['gear'].max()\n",
      "                  chatwithpandas.response\n",
      "0  The maximum of the gear column is 5.0.\n"
     ]
    }
   ],
   "source": [
    "chat_query1 = f\"\"\" SELECT ChatWithPandas('what is the maximum of the gear column',gear) FROM CARSDATA;\"\"\"\n",
    "result1 = cursor.query(chat_query1).execute()\n",
    "print(result1)"
   ]
  },
  {
   "cell_type": "code",
   "execution_count": 18,
   "id": "8af54f98",
   "metadata": {},
   "outputs": [
    {
     "name": "stdout",
     "output_type": "stream",
     "text": [
      "df is:                                                       0  gear\n",
      "0     what would it be if we multiple by 100 and the...   4.0\n",
      "1     what would it be if we multiple by 100 and the...   4.0\n",
      "2     what would it be if we multiple by 100 and the...   4.0\n",
      "3     what would it be if we multiple by 100 and the...   3.0\n",
      "4     what would it be if we multiple by 100 and the...   3.0\n",
      "...                                                 ...   ...\n",
      "2395  what would it be if we multiple by 100 and the...   5.0\n",
      "2396  what would it be if we multiple by 100 and the...   5.0\n",
      "2397  what would it be if we multiple by 100 and the...   5.0\n",
      "2398  what would it be if we multiple by 100 and the...   5.0\n",
      "2399  what would it be if we multiple by 100 and the...   4.0\n",
      "\n",
      "[2400 rows x 2 columns]\n",
      "req_df is:       gear\n",
      "0      4.0\n",
      "1      4.0\n",
      "2      4.0\n",
      "3      3.0\n",
      "4      3.0\n",
      "...    ...\n",
      "2395   5.0\n",
      "2396   5.0\n",
      "2397   5.0\n",
      "2398   5.0\n",
      "2399   4.0\n",
      "\n",
      "[2400 rows x 1 columns]\n",
      "self is       gear\n",
      "0      4.0\n",
      "1      4.0\n",
      "2      4.0\n",
      "3      3.0\n",
      "4      3.0\n",
      "...    ...\n",
      "2395   5.0\n",
      "2396   5.0\n",
      "2397   5.0\n",
      "2398   5.0\n",
      "2399   4.0\n",
      "\n",
      "[2400 rows x 1 columns]\n",
      "FULL LOG: {'input': 'Previous query: {\\'query\\': \\'what is the maximum of the gear column\\', \\'response\\': \\'The maximum of the gear column is 5.0.\\', \\'command\\': \"df[\\'gear\\'].max()\"}Current query: what would it be if we multiple by 100 and then add 3', 'output': 'The maximum of the gear column multiplied by 100 and then added 3 is 503.0.', 'intermediate_steps': [(AgentAction(tool='python_repl_ast', tool_input=\"df['gear'].max() * 100 + 3\", log=\"Thought: I need to use the python_repl_ast tool to execute a command\\nAction: python_repl_ast\\nAction Input: df['gear'].max() * 100 + 3\"), 503.0)]}\n",
      "Thought: I need to use the python_repl_ast tool to execute a command\n",
      "Action: python_repl_ast\n",
      "Action Input: df['gear'].max() * 100 + 3\n"
     ]
    }
   ],
   "source": [
    "res = cursor.query(\"SELECT ChatWithPandas('what would it be if we multiple by 100 and then add 3', gear) FROM CARSDATA;\").execute()"
   ]
  },
  {
   "cell_type": "code",
   "execution_count": 19,
   "id": "f5a4be1c",
   "metadata": {},
   "outputs": [
    {
     "name": "stdout",
     "output_type": "stream",
     "text": [
      "                                                       chatwithpandas.response\n",
      "0  The maximum of the gear column multiplied by 100 and then added 3 is 503.0.\n"
     ]
    }
   ],
   "source": [
    "print(res)"
   ]
  },
  {
   "cell_type": "code",
   "execution_count": 14,
   "id": "e26a91d7",
   "metadata": {},
   "outputs": [
    {
     "name": "stdout",
     "output_type": "stream",
     "text": [
      "df is:                                                  0               name  carb\n",
      "0     what are the top car with maximum carb value          Mazda RX4   4.0\n",
      "1     what are the top car with maximum carb value      Mazda RX4 Wag   4.0\n",
      "2     what are the top car with maximum carb value         Datsun 710   1.0\n",
      "3     what are the top car with maximum carb value     Hornet 4 Drive   1.0\n",
      "4     what are the top car with maximum carb value  Hornet Sportabout   2.0\n",
      "...                                            ...                ...   ...\n",
      "2395  what are the top car with maximum carb value       Lotus Europa   2.0\n",
      "2396  what are the top car with maximum carb value     Ford Pantera L   4.0\n",
      "2397  what are the top car with maximum carb value       Ferrari Dino   6.0\n",
      "2398  what are the top car with maximum carb value      Maserati Bora   8.0\n",
      "2399  what are the top car with maximum carb value         Volvo 142E   2.0\n",
      "\n",
      "[2400 rows x 3 columns]\n",
      "req_df is:                    name  carb\n",
      "0             Mazda RX4   4.0\n",
      "1         Mazda RX4 Wag   4.0\n",
      "2            Datsun 710   1.0\n",
      "3        Hornet 4 Drive   1.0\n",
      "4     Hornet Sportabout   2.0\n",
      "...                 ...   ...\n",
      "2395       Lotus Europa   2.0\n",
      "2396     Ford Pantera L   4.0\n",
      "2397       Ferrari Dino   6.0\n",
      "2398      Maserati Bora   8.0\n",
      "2399         Volvo 142E   2.0\n",
      "\n",
      "[2400 rows x 2 columns]\n",
      "self is                    name  carb\n",
      "0             Mazda RX4   4.0\n",
      "1         Mazda RX4 Wag   4.0\n",
      "2            Datsun 710   1.0\n",
      "3        Hornet 4 Drive   1.0\n",
      "4     Hornet Sportabout   2.0\n",
      "...                 ...   ...\n",
      "2395       Lotus Europa   2.0\n",
      "2396     Ford Pantera L   4.0\n",
      "2397       Ferrari Dino   6.0\n",
      "2398      Maserati Bora   8.0\n",
      "2399         Volvo 142E   2.0\n",
      "\n",
      "[2400 rows x 2 columns]\n",
      "FULL LOG: {'input': 'Previous query: {\\'query\\': \\'what is the gear for this car\\', \\'response\\': \\'The gear for Mazda RX4 is 4.\\', \\'command\\': \"df[df[\\'name\\'] == \\'Mazda RX4\\'][\\'gear\\']\"}Current query: what are the top car with maximum carb value', 'output': 'The car with the maximum carb value is Maserati Bora with 8.0.', 'intermediate_steps': [(AgentAction(tool='python_repl_ast', tool_input=\"df.sort_values(by='carb', ascending=False).head(1)\", log=\"\\nThought: I need to find the maximum carb value and the corresponding car name\\nAction: python_repl_ast\\nAction Input: df.sort_values(by='carb', ascending=False).head(1)\"),                name  carb\n",
      "1438  Maserati Bora   8.0)]}\n",
      "\n",
      "Thought: I need to find the maximum carb value and the corresponding car name\n",
      "Action: python_repl_ast\n",
      "Action Input: df.sort_values(by='carb', ascending=False).head(1)\n",
      "                                          chatwithpandas.response\n",
      "0  The car with the maximum carb value is Maserati Bora with 8.0.\n"
     ]
    }
   ],
   "source": [
    "chat_query1 = f\"\"\" SELECT ChatWithPandas('what are the top car with maximum carb value',name,carb) FROM CARSDATA;\"\"\"\n",
    "print(cursor.query(chat_query1).execute())"
   ]
  },
  {
   "cell_type": "code",
   "execution_count": 15,
   "id": "4a40d97e",
   "metadata": {},
   "outputs": [
    {
     "name": "stdout",
     "output_type": "stream",
     "text": [
      "df is:                                                       0               name  \\\n",
      "0     what is the gear for this car that we talked a...          Mazda RX4   \n",
      "1     what is the gear for this car that we talked a...      Mazda RX4 Wag   \n",
      "2     what is the gear for this car that we talked a...         Datsun 710   \n",
      "3     what is the gear for this car that we talked a...     Hornet 4 Drive   \n",
      "4     what is the gear for this car that we talked a...  Hornet Sportabout   \n",
      "...                                                 ...                ...   \n",
      "2395  what is the gear for this car that we talked a...       Lotus Europa   \n",
      "2396  what is the gear for this car that we talked a...     Ford Pantera L   \n",
      "2397  what is the gear for this car that we talked a...       Ferrari Dino   \n",
      "2398  what is the gear for this car that we talked a...      Maserati Bora   \n",
      "2399  what is the gear for this car that we talked a...         Volvo 142E   \n",
      "\n",
      "      gear  \n",
      "0      4.0  \n",
      "1      4.0  \n",
      "2      4.0  \n",
      "3      3.0  \n",
      "4      3.0  \n",
      "...    ...  \n",
      "2395   5.0  \n",
      "2396   5.0  \n",
      "2397   5.0  \n",
      "2398   5.0  \n",
      "2399   4.0  \n",
      "\n",
      "[2400 rows x 3 columns]\n",
      "req_df is:                    name  gear\n",
      "0             Mazda RX4   4.0\n",
      "1         Mazda RX4 Wag   4.0\n",
      "2            Datsun 710   4.0\n",
      "3        Hornet 4 Drive   3.0\n",
      "4     Hornet Sportabout   3.0\n",
      "...                 ...   ...\n",
      "2395       Lotus Europa   5.0\n",
      "2396     Ford Pantera L   5.0\n",
      "2397       Ferrari Dino   5.0\n",
      "2398      Maserati Bora   5.0\n",
      "2399         Volvo 142E   4.0\n",
      "\n",
      "[2400 rows x 2 columns]\n",
      "self is                    name  gear\n",
      "0             Mazda RX4   4.0\n",
      "1         Mazda RX4 Wag   4.0\n",
      "2            Datsun 710   4.0\n",
      "3        Hornet 4 Drive   3.0\n",
      "4     Hornet Sportabout   3.0\n",
      "...                 ...   ...\n",
      "2395       Lotus Europa   5.0\n",
      "2396     Ford Pantera L   5.0\n",
      "2397       Ferrari Dino   5.0\n",
      "2398      Maserati Bora   5.0\n",
      "2399         Volvo 142E   4.0\n",
      "\n",
      "[2400 rows x 2 columns]\n",
      "FULL LOG: {'input': 'Previous query: {\\'query\\': \\'what are the top car with maximum carb value\\', \\'response\\': \\'The car with the maximum carb value is Maserati Bora with 8.0.\\', \\'command\\': \"df.sort_values(by=\\'carb\\', ascending=False).head(1)\"}Current query: what is the gear for this car that we talked about in the last query', 'output': 'The gear for the car with the maximum carb value is 5.0.', 'intermediate_steps': [(AgentAction(tool='python_repl_ast', tool_input=\"df[df['name'] == 'Maserati Bora']['gear']\", log=\"Thought: I need to find the gear value for the car with the maximum carb value\\nAction: python_repl_ast\\nAction Input: df[df['name'] == 'Maserati Bora']['gear']\"), 30      5.0\n",
      "62      5.0\n",
      "94      5.0\n",
      "126     5.0\n",
      "158     5.0\n",
      "       ... \n",
      "2270    5.0\n",
      "2302    5.0\n",
      "2334    5.0\n",
      "2366    5.0\n",
      "2398    5.0\n",
      "Name: gear, Length: 75, dtype: float64)]}\n",
      "Thought: I need to find the gear value for the car with the maximum carb value\n",
      "Action: python_repl_ast\n",
      "Action Input: df[df['name'] == 'Maserati Bora']['gear']\n",
      "                                    chatwithpandas.response\n",
      "0  The gear for the car with the maximum carb value is 5.0.\n"
     ]
    }
   ],
   "source": [
    "chat_query1 = f\"\"\" SELECT ChatWithPandas('what is the gear for this car that we talked about in the last query',name,gear) FROM CARSDATA;\"\"\"\n",
    "print(cursor.query(chat_query1).execute())"
   ]
  },
  {
   "cell_type": "code",
   "execution_count": 16,
   "id": "47504eff",
   "metadata": {},
   "outputs": [
    {
     "name": "stdout",
     "output_type": "stream",
     "text": [
      "df is:                                     0  carb\n",
      "0     what is the mean of carh column   4.0\n",
      "1     what is the mean of carh column   4.0\n",
      "2     what is the mean of carh column   1.0\n",
      "3     what is the mean of carh column   1.0\n",
      "4     what is the mean of carh column   2.0\n",
      "...                               ...   ...\n",
      "2395  what is the mean of carh column   2.0\n",
      "2396  what is the mean of carh column   4.0\n",
      "2397  what is the mean of carh column   6.0\n",
      "2398  what is the mean of carh column   8.0\n",
      "2399  what is the mean of carh column   2.0\n",
      "\n",
      "[2400 rows x 2 columns]\n",
      "req_df is:       carb\n",
      "0      4.0\n",
      "1      4.0\n",
      "2      1.0\n",
      "3      1.0\n",
      "4      2.0\n",
      "...    ...\n",
      "2395   2.0\n",
      "2396   4.0\n",
      "2397   6.0\n",
      "2398   8.0\n",
      "2399   2.0\n",
      "\n",
      "[2400 rows x 1 columns]\n",
      "self is       carb\n",
      "0      4.0\n",
      "1      4.0\n",
      "2      1.0\n",
      "3      1.0\n",
      "4      2.0\n",
      "...    ...\n",
      "2395   2.0\n",
      "2396   4.0\n",
      "2397   6.0\n",
      "2398   8.0\n",
      "2399   2.0\n",
      "\n",
      "[2400 rows x 1 columns]\n",
      "FULL LOG: {'input': 'Previous query: {\\'query\\': \\'what is the gear for this car that we talked about in the last query\\', \\'response\\': \\'The gear for the car with the maximum carb value is 5.0.\\', \\'command\\': \"df[df[\\'name\\'] == \\'Maserati Bora\\'][\\'gear\\']\"}Current query: what is the mean of carh column', 'output': 'The mean of the carb column is 2.8125.', 'intermediate_steps': [(AgentAction(tool='python_repl_ast', tool_input=\"df['carb'].mean()\", log=\"Thought: I need to calculate the mean of the carb column\\nAction: python_repl_ast\\nAction Input: df['carb'].mean()\"), 2.8125)]}\n",
      "Thought: I need to calculate the mean of the carb column\n",
      "Action: python_repl_ast\n",
      "Action Input: df['carb'].mean()\n",
      "                  chatwithpandas.response\n",
      "0  The mean of the carb column is 2.8125.\n"
     ]
    }
   ],
   "source": [
    "chat_query1 = f\"\"\" SELECT ChatWithPandas('what is the mean of carh column',carb) FROM CARSDATA;\"\"\"\n",
    "print(cursor.query(chat_query1).execute())"
   ]
  },
  {
   "cell_type": "code",
   "execution_count": null,
   "id": "0292a26a",
   "metadata": {},
   "outputs": [],
   "source": []
  }
 ],
 "metadata": {
  "kernelspec": {
   "display_name": "Python 3.10",
   "language": "python",
   "name": "python310"
  },
  "language_info": {
   "codemirror_mode": {
    "name": "ipython",
    "version": 3
   },
   "file_extension": ".py",
   "mimetype": "text/x-python",
   "name": "python",
   "nbconvert_exporter": "python",
   "pygments_lexer": "ipython3",
   "version": "3.10.13"
  }
 },
 "nbformat": 4,
 "nbformat_minor": 5
}
