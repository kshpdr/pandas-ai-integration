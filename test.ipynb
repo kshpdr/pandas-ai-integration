{
 "cells": [
  {
   "cell_type": "code",
   "execution_count": 1,
   "id": "280ece73",
   "metadata": {},
   "outputs": [],
   "source": [
    "import os\n",
    "import pandas as pd\n",
    "import evadb\n",
    "import matplotlib.pyplot as plt\n",
    "%matplotlib notebook"
   ]
  },
  {
   "cell_type": "code",
   "execution_count": 2,
   "id": "111bbda3",
   "metadata": {},
   "outputs": [],
   "source": [
    "cursor = evadb.connect().cursor()"
   ]
  },
  {
   "cell_type": "code",
   "execution_count": 3,
   "id": "006df1b4",
   "metadata": {},
   "outputs": [
    {
     "data": {
      "text/plain": [
       "<evadb.models.storage.batch.Batch at 0x12cb72110>"
      ]
     },
     "execution_count": 3,
     "metadata": {},
     "output_type": "execute_result"
    }
   ],
   "source": [
    "create_function_query = f\"\"\"CREATE FUNCTION IF NOT EXISTS ChatWithPandas\n",
    "            IMPL  './functions/semantic_cache.py';\n",
    "            \"\"\"\n",
    "cursor.query(\"DROP FUNCTION IF EXISTS ChatWithPandas;\").execute()\n",
    "cursor.query(create_function_query).execute()"
   ]
  },
  {
   "cell_type": "code",
   "execution_count": 4,
   "id": "0158516b",
   "metadata": {},
   "outputs": [],
   "source": [
    "create_table_query = f\"\"\"\n",
    "CREATE TABLE IF NOT EXISTS CARSDATA(\n",
    "id INTEGER,\n",
    "name TEXT(30),\n",
    "mpg INTEGER,\n",
    "cyl FLOAT(64,64),\n",
    "disp FLOAT(64,64),\n",
    "hp FLOAT(64,64),\n",
    "drat FLOAT(64,64),\n",
    "wt FLOAT(64,64),\n",
    "qsec FLOAT(64,64),\n",
    "vs FLOAT(64,64),\n",
    "am FLOAT(64,64),\n",
    "gear FLOAT(64,64),\n",
    "carb FLOAT(64,64)\n",
    ");\n",
    "\"\"\"\n",
    "load_data_query = f\"\"\" LOAD CSV 'data/cars.csv' INTO CARSDATA;\"\"\""
   ]
  },
  {
   "cell_type": "code",
   "execution_count": 5,
   "id": "fabadb87",
   "metadata": {},
   "outputs": [
    {
     "name": "stderr",
     "output_type": "stream",
     "text": [
      "10-17-2023 11:02:06 WARNING[executor_utils:executor_utils.py:handle_if_not_exists:0090] Table: CARSDATA already exists\n"
     ]
    },
    {
     "data": {
      "text/plain": [
       "<evadb.models.storage.batch.Batch at 0x12f1dbcd0>"
      ]
     },
     "execution_count": 5,
     "metadata": {},
     "output_type": "execute_result"
    }
   ],
   "source": [
    "cursor.query(create_table_query).execute()\n",
    "cursor.query(load_data_query).execute()"
   ]
  },
  {
   "cell_type": "code",
   "execution_count": 6,
   "id": "5001ed03",
   "metadata": {},
   "outputs": [
    {
     "name": "stdout",
     "output_type": "stream",
     "text": [
      "                  chatwithpandas.response\n",
      "0  The maximum of the gear column is 5.0.\n"
     ]
    }
   ],
   "source": [
    "chat_query1 = f\"\"\" SELECT ChatWithPandas('what is the maximum of the gear column',gear) FROM CARSDATA;\"\"\"\n",
    "result1 = cursor.query(chat_query1).execute()\n",
    "print(result1)"
   ]
  },
  {
   "cell_type": "code",
   "execution_count": 7,
   "id": "92667763",
   "metadata": {},
   "outputs": [],
   "source": [
    "res = cursor.query(\"SELECT ChatWithPandas('what would it be if we multiple by 100 and then add 3', gear) FROM CARSDATA;\").execute()"
   ]
  },
  {
   "cell_type": "code",
   "execution_count": 8,
   "id": "3cf6b082",
   "metadata": {},
   "outputs": [
    {
     "name": "stdout",
     "output_type": "stream",
     "text": [
      "                                                       chatwithpandas.response\n",
      "0  The maximum of the gear column multiplied by 100 and then added 3 is 503.0.\n"
     ]
    }
   ],
   "source": [
    "print(res)"
   ]
  },
  {
   "cell_type": "code",
   "execution_count": 9,
   "id": "9f08c010",
   "metadata": {},
   "outputs": [
    {
     "name": "stdout",
     "output_type": "stream",
     "text": [
      "                                   chatwithpandas.response\n",
      "0  The top cars with maximum carb value are Maserati Bora.\n"
     ]
    }
   ],
   "source": [
    "chat_query1 = f\"\"\" SELECT ChatWithPandas('what are the top car with maximum carb value',name,carb) FROM CARSDATA;\"\"\"\n",
    "print(cursor.query(chat_query1).execute())"
   ]
  },
  {
   "cell_type": "code",
   "execution_count": 10,
   "id": "8f85b228",
   "metadata": {},
   "outputs": [
    {
     "name": "stdout",
     "output_type": "stream",
     "text": [
      "                                        chatwithpandas.response\n",
      "0  The gear for the car we talked about in the last query is 5.\n"
     ]
    }
   ],
   "source": [
    "chat_query1 = f\"\"\" SELECT ChatWithPandas('what is the gear for this car that we talked about in the last query',name,gear) FROM CARSDATA;\"\"\"\n",
    "print(cursor.query(chat_query1).execute())"
   ]
  },
  {
   "cell_type": "code",
   "execution_count": 16,
   "id": "aa937655",
   "metadata": {},
   "outputs": [
    {
     "name": "stdout",
     "output_type": "stream",
     "text": [
      "df is:                                     0  carb\n",
      "0     what is the mean of carh column   4.0\n",
      "1     what is the mean of carh column   4.0\n",
      "2     what is the mean of carh column   1.0\n",
      "3     what is the mean of carh column   1.0\n",
      "4     what is the mean of carh column   2.0\n",
      "...                               ...   ...\n",
      "2395  what is the mean of carh column   2.0\n",
      "2396  what is the mean of carh column   4.0\n",
      "2397  what is the mean of carh column   6.0\n",
      "2398  what is the mean of carh column   8.0\n",
      "2399  what is the mean of carh column   2.0\n",
      "\n",
      "[2400 rows x 2 columns]\n",
      "req_df is:       carb\n",
      "0      4.0\n",
      "1      4.0\n",
      "2      1.0\n",
      "3      1.0\n",
      "4      2.0\n",
      "...    ...\n",
      "2395   2.0\n",
      "2396   4.0\n",
      "2397   6.0\n",
      "2398   8.0\n",
      "2399   2.0\n",
      "\n",
      "[2400 rows x 1 columns]\n",
      "self is       carb\n",
      "0      4.0\n",
      "1      4.0\n",
      "2      1.0\n",
      "3      1.0\n",
      "4      2.0\n",
      "...    ...\n",
      "2395   2.0\n",
      "2396   4.0\n",
      "2397   6.0\n",
      "2398   8.0\n",
      "2399   2.0\n",
      "\n",
      "[2400 rows x 1 columns]\n",
      "FULL LOG: {'input': 'Previous query: {\\'query\\': \\'what is the gear for this car that we talked about in the last query\\', \\'response\\': \\'The gear for the car with the maximum carb value is 5.0.\\', \\'command\\': \"df[df[\\'name\\'] == \\'Maserati Bora\\'][\\'gear\\']\"}Current query: what is the mean of carh column', 'output': 'The mean of the carb column is 2.8125.', 'intermediate_steps': [(AgentAction(tool='python_repl_ast', tool_input=\"df['carb'].mean()\", log=\"Thought: I need to calculate the mean of the carb column\\nAction: python_repl_ast\\nAction Input: df['carb'].mean()\"), 2.8125)]}\n",
      "Thought: I need to calculate the mean of the carb column\n",
      "Action: python_repl_ast\n",
      "Action Input: df['carb'].mean()\n",
      "                  chatwithpandas.response\n",
      "0  The mean of the carb column is 2.8125.\n"
     ]
    }
   ],
   "source": []
  },
  {
   "cell_type": "code",
   "execution_count": null,
   "id": "f1e3da01",
   "metadata": {},
   "outputs": [],
   "source": []
  }
 ],
 "metadata": {
  "kernelspec": {
   "display_name": "Python 3.10",
   "language": "python",
   "name": "python310"
  },
  "language_info": {
   "codemirror_mode": {
    "name": "ipython",
    "version": 3
   },
   "file_extension": ".py",
   "mimetype": "text/x-python",
   "name": "python",
   "nbconvert_exporter": "python",
   "pygments_lexer": "ipython3",
   "version": "3.10.13"
  }
 },
 "nbformat": 4,
 "nbformat_minor": 5
}
