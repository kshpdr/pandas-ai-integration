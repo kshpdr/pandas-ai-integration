{
 "cells": [
  {
   "cell_type": "code",
   "execution_count": 1,
   "id": "d90920b0",
   "metadata": {},
   "outputs": [
    {
     "name": "stdout",
     "output_type": "stream",
     "text": [
      "/Users/koselev/Desktop/CS6422-DSI/evadb-project/pandas-ai-integration/evadb-venv/bin/python3.10\n"
     ]
    }
   ],
   "source": [
    "import sys\n",
    "print(sys.executable)\n",
    "\n",
    "import os\n",
    "import pandas as pd\n",
    "import evadb\n",
    "import matplotlib.pyplot as plt\n",
    "%matplotlib notebook"
   ]
  },
  {
   "cell_type": "code",
   "execution_count": 2,
   "id": "8b6ed957",
   "metadata": {},
   "outputs": [],
   "source": [
    "cursor = evadb.connect().cursor()"
   ]
  },
  {
   "cell_type": "code",
   "execution_count": 3,
   "id": "8370c180",
   "metadata": {},
   "outputs": [
    {
     "data": {
      "text/plain": [
       "<evadb.models.storage.batch.Batch at 0x12934f940>"
      ]
     },
     "execution_count": 3,
     "metadata": {},
     "output_type": "execute_result"
    }
   ],
   "source": [
    "create_function_query = f\"\"\"CREATE FUNCTION IF NOT EXISTS ChatWithPandas\n",
    "            IMPL  './functions/semantic_cache.py';\n",
    "            \"\"\"\n",
    "cursor.query(\"DROP FUNCTION IF EXISTS ChatWithPandas;\").execute()\n",
    "cursor.query(create_function_query).execute()"
   ]
  },
  {
   "cell_type": "code",
   "execution_count": 4,
   "id": "467aac2c",
   "metadata": {},
   "outputs": [],
   "source": [
    "create_table_query = f\"\"\"\n",
    "CREATE TABLE IF NOT EXISTS CARSDATA(\n",
    "id INTEGER,\n",
    "name TEXT(30),\n",
    "mpg INTEGER,\n",
    "cyl FLOAT(64,64),\n",
    "disp FLOAT(64,64),\n",
    "hp FLOAT(64,64),\n",
    "drat FLOAT(64,64),\n",
    "wt FLOAT(64,64),\n",
    "qsec FLOAT(64,64),\n",
    "vs FLOAT(64,64),\n",
    "am FLOAT(64,64),\n",
    "gear FLOAT(64,64),\n",
    "carb FLOAT(64,64)\n",
    ");\n",
    "\"\"\"\n",
    "load_data_query = f\"\"\" LOAD CSV 'data/cars.csv' INTO CARSDATA;\"\"\""
   ]
  },
  {
   "cell_type": "code",
   "execution_count": 5,
   "id": "cf2416ff",
   "metadata": {},
   "outputs": [
    {
     "name": "stderr",
     "output_type": "stream",
     "text": [
      "11-25-2023 12:55:53 WARNING[executor_utils:executor_utils.py:handle_if_not_exists:0094] Table: CARSDATA already exists\n"
     ]
    },
    {
     "data": {
      "text/plain": [
       "<evadb.models.storage.batch.Batch at 0x12934cd90>"
      ]
     },
     "execution_count": 5,
     "metadata": {},
     "output_type": "execute_result"
    }
   ],
   "source": [
    "cursor.query(create_table_query).execute()\n",
    "cursor.query(load_data_query).execute()"
   ]
  },
  {
   "cell_type": "code",
   "execution_count": 6,
   "id": "87578d5c",
   "metadata": {},
   "outputs": [
    {
     "name": "stdout",
     "output_type": "stream",
     "text": [
      "                                 response\n",
      "0  The maximum of the gear column is 5.0.\n"
     ]
    }
   ],
   "source": [
    "chat_query1 = f\"\"\" SELECT ChatWithPandas('what is the maximum of the gear column',gear) FROM CARSDATA;\"\"\"\n",
    "result1 = cursor.query(chat_query1).execute()\n",
    "print(result1)"
   ]
  },
  {
   "cell_type": "code",
   "execution_count": 7,
   "id": "b579c25e",
   "metadata": {},
   "outputs": [],
   "source": [
    "res = cursor.query(\"SELECT ChatWithPandas('what would it be if we multiple by 100 and then add 3', gear) FROM CARSDATA;\").execute()"
   ]
  },
  {
   "cell_type": "code",
   "execution_count": 8,
   "id": "070e4b5d",
   "metadata": {},
   "outputs": [
    {
     "name": "stdout",
     "output_type": "stream",
     "text": [
      "                                                                      response\n",
      "0  The maximum of the gear column multiplied by 100 and then added 3 is 503.0.\n"
     ]
    }
   ],
   "source": [
    "print(res)"
   ]
  },
  {
   "cell_type": "code",
   "execution_count": 9,
   "id": "f7e0b11b",
   "metadata": {},
   "outputs": [
    {
     "name": "stdout",
     "output_type": "stream",
     "text": [
      "                                                  response\n",
      "0  The top cars with maximum carb value are Maserati Bora.\n"
     ]
    }
   ],
   "source": [
    "chat_query1 = f\"\"\" SELECT ChatWithPandas('what are the top car with maximum carb value',name,carb) FROM CARSDATA;\"\"\"\n",
    "print(cursor.query(chat_query1).execute())"
   ]
  },
  {
   "cell_type": "code",
   "execution_count": 10,
   "id": "a2f53dea",
   "metadata": {},
   "outputs": [
    {
     "name": "stdout",
     "output_type": "stream",
     "text": [
      "                                                       response\n",
      "0  The gear for the car we talked about in the last query is 5.\n"
     ]
    }
   ],
   "source": [
    "chat_query1 = f\"\"\" SELECT ChatWithPandas('what is the gear for this car that we talked about in the last query',name,gear) FROM CARSDATA;\"\"\"\n",
    "print(cursor.query(chat_query1).execute())"
   ]
  },
  {
   "cell_type": "code",
   "execution_count": 11,
   "id": "78a3274b",
   "metadata": {},
   "outputs": [
    {
     "name": "stdout",
     "output_type": "stream",
     "text": [
      "                                                               response\n",
      "0  Cached: The gear for the car we talked about in the last query is 5.\n"
     ]
    }
   ],
   "source": [
    "chat_query1 = f\"\"\" SELECT ChatWithPandas('what is the gear for this car that we talked about in the last query',name,gear) FROM CARSDATA;\"\"\"\n",
    "print(cursor.query(chat_query1).execute())"
   ]
  },
  {
   "cell_type": "code",
   "execution_count": 12,
   "id": "f520985a",
   "metadata": {},
   "outputs": [
    {
     "name": "stdout",
     "output_type": "stream",
     "text": [
      "                                                          response\n",
      "0  Cached: The top cars with maximum carb value are Maserati Bora.\n"
     ]
    }
   ],
   "source": [
    "chat_query1 = f\"\"\" SELECT ChatWithPandas('give me the maximum carb car',name,carb)  FROM CARSDATA;\"\"\"\n",
    "print(cursor.query(chat_query1).execute())"
   ]
  },
  {
   "cell_type": "code",
   "execution_count": 14,
   "id": "62b24906-c413-4d30-b20d-e8d59f72950d",
   "metadata": {},
   "outputs": [
    {
     "name": "stdout",
     "output_type": "stream",
     "text": [
      "                                                                              response\n",
      "0  Cached: The maximum of the gear column multiplied by 100 and then added 3 is 503.0.\n"
     ]
    }
   ],
   "source": [
    "chat_query1 = f\"\"\" SELECT ChatWithPandas('what was the result of multiplication and addition on the gear value',gear)  FROM CARSDATA;\"\"\"\n",
    "print(cursor.query(chat_query1).execute())"
   ]
  },
  {
   "cell_type": "code",
   "execution_count": 15,
   "id": "e1d5b9af-fdf1-4b86-85db-69d90eddd742",
   "metadata": {},
   "outputs": [
    {
     "name": "stdout",
     "output_type": "stream",
     "text": [
      "                                 response\n",
      "0  The mean of the gear column is 3.6875.\n"
     ]
    }
   ],
   "source": [
    "chat_query1 = f\"\"\" SELECT ChatWithPandas('what is the mean of the gear column',gear) FROM CARSDATA;\"\"\"\n",
    "result1 = cursor.query(chat_query1).execute()\n",
    "print(result1)"
   ]
  },
  {
   "cell_type": "code",
   "execution_count": 16,
   "id": "6ccd0840-9487-43a2-a756-2f2441228ea6",
   "metadata": {},
   "outputs": [
    {
     "name": "stdout",
     "output_type": "stream",
     "text": [
      "                                         response\n",
      "0  Cached: The mean of the gear column is 3.6875.\n"
     ]
    }
   ],
   "source": [
    "chat_query1 = f\"\"\" SELECT ChatWithPandas('what is the avereage gear',gear) FROM CARSDATA;\"\"\"\n",
    "result1 = cursor.query(chat_query1).execute()\n",
    "print(result1)"
   ]
  },
  {
   "cell_type": "code",
   "execution_count": null,
   "id": "2c16a4e0-9950-4ad9-b074-f14ca3dd48ed",
   "metadata": {},
   "outputs": [],
   "source": []
  }
 ],
 "metadata": {
  "kernelspec": {
   "display_name": "Python 3 (ipykernel)",
   "language": "python",
   "name": "python3"
  },
  "language_info": {
   "codemirror_mode": {
    "name": "ipython",
    "version": 3
   },
   "file_extension": ".py",
   "mimetype": "text/x-python",
   "name": "python",
   "nbconvert_exporter": "python",
   "pygments_lexer": "ipython3",
   "version": "3.10.13"
  }
 },
 "nbformat": 4,
 "nbformat_minor": 5
}
