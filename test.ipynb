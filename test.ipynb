{
 "cells": [
  {
   "cell_type": "code",
   "execution_count": 1,
   "id": "a8a2197c",
   "metadata": {},
   "outputs": [],
   "source": [
    "import os\n",
    "import pandas as pd\n",
    "import evadb\n",
    "import matplotlib.pyplot as plt\n",
    "%matplotlib notebook"
   ]
  },
  {
   "cell_type": "code",
   "execution_count": 2,
   "id": "5cb6e818",
   "metadata": {},
   "outputs": [],
   "source": [
    "cursor = evadb.connect().cursor()"
   ]
  },
  {
   "cell_type": "code",
   "execution_count": 3,
   "id": "dfba71f5",
   "metadata": {},
   "outputs": [
    {
     "data": {
      "text/plain": [
       "<evadb.models.storage.batch.Batch at 0x12c919840>"
      ]
     },
     "execution_count": 3,
     "metadata": {},
     "output_type": "execute_result"
    }
   ],
   "source": [
    "create_function_query = f\"\"\"CREATE FUNCTION IF NOT EXISTS ChatWithPandas\n",
    "            IMPL  './functions/semantic_cache.py';\n",
    "            \"\"\"\n",
    "cursor.query(\"DROP FUNCTION IF EXISTS ChatWithPandas;\").execute()\n",
    "cursor.query(create_function_query).execute()"
   ]
  },
  {
   "cell_type": "code",
   "execution_count": 4,
   "id": "f0fcdc97",
   "metadata": {},
   "outputs": [],
   "source": [
    "create_table_query = f\"\"\"\n",
    "CREATE TABLE IF NOT EXISTS CARSDATA(\n",
    "id INTEGER,\n",
    "name TEXT(30),\n",
    "mpg INTEGER,\n",
    "cyl FLOAT(64,64),\n",
    "disp FLOAT(64,64),\n",
    "hp FLOAT(64,64),\n",
    "drat FLOAT(64,64),\n",
    "wt FLOAT(64,64),\n",
    "qsec FLOAT(64,64),\n",
    "vs FLOAT(64,64),\n",
    "am FLOAT(64,64),\n",
    "gear FLOAT(64,64),\n",
    "carb FLOAT(64,64)\n",
    ");\n",
    "\"\"\"\n",
    "load_data_query = f\"\"\" LOAD CSV 'data/cars.csv' INTO CARSDATA;\"\"\""
   ]
  },
  {
   "cell_type": "code",
   "execution_count": 5,
   "id": "a848ddac",
   "metadata": {},
   "outputs": [
    {
     "name": "stderr",
     "output_type": "stream",
     "text": [
      "10-10-2023 18:40:12 WARNING[executor_utils:executor_utils.py:handle_if_not_exists:0090] Table: CARSDATA already exists\n"
     ]
    },
    {
     "data": {
      "text/plain": [
       "<evadb.models.storage.batch.Batch at 0x12c7ef1c0>"
      ]
     },
     "execution_count": 5,
     "metadata": {},
     "output_type": "execute_result"
    }
   ],
   "source": [
    "cursor.query(create_table_query).execute()\n",
    "cursor.query(load_data_query).execute()"
   ]
  },
  {
   "cell_type": "code",
   "execution_count": 6,
   "id": "8a59b08a",
   "metadata": {},
   "outputs": [
    {
     "name": "stdout",
     "output_type": "stream",
     "text": [
      "Modified query: Previous query: Current query: what is the mean\n",
      "Thought: I need to calculate the mean of the gear column\n",
      "Action: python_repl_ast\n",
      "Action Input: df['gear'].mean()\n",
      "FULL LOG: {'input': 'Previous query: Current query: what is the mean', 'output': 'The mean of the gear column is 3.6875.', 'intermediate_steps': [(AgentAction(tool='python_repl_ast', tool_input=\"df['gear'].mean()\", log=\"Thought: I need to calculate the mean of the gear column\\nAction: python_repl_ast\\nAction Input: df['gear'].mean()\"), 3.6875)]}\n",
      "                  chatwithpandas.response\n",
      "0  The mean of the gear column is 3.6875.\n"
     ]
    }
   ],
   "source": [
    "chat_query1 = f\"\"\" SELECT ChatWithPandas('what is the mean',gear) FROM CARSDATA;\"\"\"\n",
    "result1 = cursor.query(chat_query1).execute()\n",
    "print(result1)"
   ]
  },
  {
   "cell_type": "code",
   "execution_count": 9,
   "id": "7a88b70c",
   "metadata": {},
   "outputs": [
    {
     "name": "stdout",
     "output_type": "stream",
     "text": [
      "Modified query: Previous query: {'query': 'Previous query: {\\'query\\': \\'Previous query: Current query: what is the mean\\', \\'response\\': \\'The mean of the gear column is 3.6875.\\', \\'command\\': \"df[\\'gear\\'].mean()\"}Current query: what would it be if we add 3 and then multiple by 100', 'response': 'The mean of the gear column with the given equation is 303.6875.', 'command': \"df['gear'].mean() + 3 * 100\"}Current query: what would it be if we multiple by 100 and then add 3\n",
      "Thought: I need to calculate the mean of the gear column with the given equation\n",
      "Action: python_repl_ast\n",
      "Action Input: df['gear'].mean() * 100 + 3\n",
      "FULL LOG: {'input': 'Previous query: {\\'query\\': \\'Previous query: {\\\\\\'query\\\\\\': \\\\\\'Previous query: Current query: what is the mean\\\\\\', \\\\\\'response\\\\\\': \\\\\\'The mean of the gear column is 3.6875.\\\\\\', \\\\\\'command\\\\\\': \"df[\\\\\\'gear\\\\\\'].mean()\"}Current query: what would it be if we add 3 and then multiple by 100\\', \\'response\\': \\'The mean of the gear column with the given equation is 303.6875.\\', \\'command\\': \"df[\\'gear\\'].mean() + 3 * 100\"}Current query: what would it be if we multiple by 100 and then add 3', 'output': 'The mean of the gear column with the given equation is 371.75.', 'intermediate_steps': [(AgentAction(tool='python_repl_ast', tool_input=\"df['gear'].mean() * 100 + 3\", log=\"Thought: I need to calculate the mean of the gear column with the given equation\\nAction: python_repl_ast\\nAction Input: df['gear'].mean() * 100 + 3\"), 371.75)]}\n"
     ]
    }
   ],
   "source": [
    "res = cursor.query(\"SELECT ChatWithPandas('what would it be if we multiple by 100 and then add 3', gear) FROM CARSDATA;\").execute()"
   ]
  },
  {
   "cell_type": "code",
   "execution_count": null,
   "id": "e87d1363",
   "metadata": {},
   "outputs": [],
   "source": []
  },
  {
   "cell_type": "code",
   "execution_count": null,
   "id": "976f89cd",
   "metadata": {},
   "outputs": [],
   "source": []
  },
  {
   "cell_type": "code",
   "execution_count": null,
   "id": "6b783ff1",
   "metadata": {},
   "outputs": [],
   "source": []
  }
 ],
 "metadata": {
  "kernelspec": {
   "display_name": "Python 3.10",
   "language": "python",
   "name": "python310"
  },
  "language_info": {
   "codemirror_mode": {
    "name": "ipython",
    "version": 3
   },
   "file_extension": ".py",
   "mimetype": "text/x-python",
   "name": "python",
   "nbconvert_exporter": "python",
   "pygments_lexer": "ipython3",
   "version": "3.10.13"
  }
 },
 "nbformat": 4,
 "nbformat_minor": 5
}
